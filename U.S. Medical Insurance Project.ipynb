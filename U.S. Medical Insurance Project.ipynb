{
 "cells": [
  {
   "cell_type": "code",
   "execution_count": 2,
   "id": "182b0a9c",
   "metadata": {},
   "outputs": [],
   "source": [
    "import csv"
   ]
  },
  {
   "cell_type": "code",
   "execution_count": 3,
   "id": "cbaed14f",
   "metadata": {},
   "outputs": [],
   "source": [
    "#list variables\n",
    "ages = []\n",
    "sexes = []\n",
    "bmis = []\n",
    "children = []\n",
    "smoker = []\n",
    "region = []\n",
    "charges = []"
   ]
  },
  {
   "cell_type": "code",
   "execution_count": 4,
   "id": "70dac565",
   "metadata": {},
   "outputs": [],
   "source": [
    "#create function\n",
    "def load_data(lst, csv_file, column_name):\n",
    "    with open(csv_file, newline = '') as csv_info:\n",
    "        csv_dict = csv.DictReader(csv_info)\n",
    "        for row in csv_dict:\n",
    "            lst.append(row[column_name])\n",
    "        return lst"
   ]
  },
  {
   "cell_type": "code",
   "execution_count": 5,
   "id": "29763d5e",
   "metadata": {},
   "outputs": [],
   "source": [
    "#age data\n",
    "load_data(ages, 'insurance.csv', 'age');"
   ]
  },
  {
   "cell_type": "code",
   "execution_count": 6,
   "id": "8062d8b7",
   "metadata": {},
   "outputs": [],
   "source": [
    "#smoker status data\n",
    "load_data(smoker, 'insurance.csv', 'smoker');"
   ]
  },
  {
   "cell_type": "code",
   "execution_count": 7,
   "id": "d082c2f2",
   "metadata": {},
   "outputs": [],
   "source": [
    "#cost data\n",
    "load_data(charges, 'insurance.csv', 'charges');"
   ]
  },
  {
   "cell_type": "code",
   "execution_count": 7,
   "id": "a7fedcc1",
   "metadata": {},
   "outputs": [],
   "source": [
    "#Class\n",
    "class PatientInfo:\n",
    "    def __init__(self,patient_age, patient_smoker, patient_charges):\n",
    "        self.patient_age = patient_age\n",
    "        self.patient_smoker = patient_smoker\n",
    "        self.patient_charges = patient_charges\n",
    "        \n",
    "        \n",
    "    #number of smokers\n",
    "    def num_smokers(self):\n",
    "        total_num_smokers = 0\n",
    "        for patient in self.patient_smoker:\n",
    "            if patient == \"yes\":\n",
    "                total_num_smokers += 1\n",
    "        return \"The number of smokers are: \" + str(total_num_smokers) + \".\"\n",
    "    \n",
    "    \n",
    "    #number of non smokers\n",
    "    def num_non_smokers(self):\n",
    "        total_num_non_smokers = 0\n",
    "        for patient in self.patient_smoker:\n",
    "            if patient == \"no\":\n",
    "                total_num_non_smokers += 1\n",
    "        return \"The number of non-smokers are: \" + str(total_num_non_smokers) + \".\"\n",
    "    \n",
    "    \n",
    "    #finds average age of all the patients\n",
    "    def avg_age(self):\n",
    "        total_age = 0\n",
    "        for age in self.patient_age:\n",
    "            total_age+= int(age)\n",
    "        average_age = int(total_age/len(self.patient_age))\n",
    "        return \"The average age of all the patients is: \"  + str(average_age) + \".\"\n",
    "    \n",
    "    \n",
    "    #finds the average age of smokers    \n",
    "    def avg_age_smoker(self):\n",
    "        ages_and_smoker = list(zip(self.patient_age, self.patient_smoker))\n",
    "        smoker_ages = 0\n",
    "        smoker_status = 0\n",
    "        for patient in ages_and_smoker:\n",
    "            if patient[1] == \"yes\":\n",
    "                smoker_ages += int(patient[0])\n",
    "                smoker_status += 1\n",
    "            else:\n",
    "                pass\n",
    "        smoker_avg_age = smoker_ages / smoker_status\n",
    "        return \"The average age of smokers is {:0.0f}\".format(smoker_avg_age) + \".\"\n",
    "    \n",
    "    \n",
    "    #finds average insurance costs of smokers and non-smokers\n",
    "    def avg_insurance_costs(self):\n",
    "        cost_and_smoker = list(zip(self.patient_charges, self.patient_smoker))\n",
    "        smoker = 0\n",
    "        non_smoker = 0\n",
    "        smoker_charges = 0\n",
    "        non_smoker_charges = 0\n",
    "        for patient in cost_and_smoker:\n",
    "            if patient[1] == \"yes\":\n",
    "                smoker += 1\n",
    "                smoker_charges += float(patient[0])\n",
    "            else:\n",
    "                non_smoker += 1\n",
    "                non_smoker_charges += float(patient[0])\n",
    "        avg_smoker_charges = smoker_charges / smoker\n",
    "        avg_non_smoker_charges = non_smoker_charges / non_smoker\n",
    "        difference = avg_smoker_charges - avg_non_smoker_charges\n",
    "        return \"The average insurance cost for smokers is ${:0.0f} \".format(avg_smoker_charges) + \"and the average insurance cost for non-smokers is ${:0.0f}\".format(avg_non_smoker_charges) + \". The difference between the average insurance cost for smokers and non-smokers is: ${:0.0f}\".format(difference) + \".\"\n",
    "\n",
    "        \n",
    "    "
   ]
  },
  {
   "cell_type": "code",
   "execution_count": 8,
   "id": "004e56ff",
   "metadata": {},
   "outputs": [],
   "source": [
    "patient_info = PatientInfo(ages, smoker, charges)"
   ]
  },
  {
   "cell_type": "code",
   "execution_count": 9,
   "id": "4d8e3817",
   "metadata": {},
   "outputs": [
    {
     "name": "stdout",
     "output_type": "stream",
     "text": [
      "The number of smokers are: 274.\n"
     ]
    }
   ],
   "source": [
    "print(patient_info.num_smokers())"
   ]
  },
  {
   "cell_type": "code",
   "execution_count": 10,
   "id": "cb818f80",
   "metadata": {},
   "outputs": [
    {
     "name": "stdout",
     "output_type": "stream",
     "text": [
      "The number of non-smokers are: 1064.\n"
     ]
    }
   ],
   "source": [
    "print(patient_info.num_non_smokers())"
   ]
  },
  {
   "cell_type": "code",
   "execution_count": 11,
   "id": "3676929d",
   "metadata": {},
   "outputs": [
    {
     "name": "stdout",
     "output_type": "stream",
     "text": [
      "The average age of all the patients is: 39.\n"
     ]
    }
   ],
   "source": [
    "print(patient_info.avg_age())"
   ]
  },
  {
   "cell_type": "code",
   "execution_count": 12,
   "id": "ca77c399",
   "metadata": {},
   "outputs": [
    {
     "name": "stdout",
     "output_type": "stream",
     "text": [
      "The average age of smokers is 39.\n"
     ]
    }
   ],
   "source": [
    "print(patient_info.avg_age_smoker())"
   ]
  },
  {
   "cell_type": "code",
   "execution_count": 13,
   "id": "9132411d",
   "metadata": {},
   "outputs": [
    {
     "name": "stdout",
     "output_type": "stream",
     "text": [
      "The average insurance cost for smokers is $32050 and the average insurance cost for non-smokers is $8434. The difference between the average insurance cost for smokers and non-smokers is: $23616.\n"
     ]
    }
   ],
   "source": [
    "print(patient_info.avg_insurance_costs())"
   ]
  }
 ],
 "metadata": {
  "kernelspec": {
   "display_name": "Python 3 (ipykernel)",
   "language": "python",
   "name": "python3"
  },
  "language_info": {
   "codemirror_mode": {
    "name": "ipython",
    "version": 3
   },
   "file_extension": ".py",
   "mimetype": "text/x-python",
   "name": "python",
   "nbconvert_exporter": "python",
   "pygments_lexer": "ipython3",
   "version": "3.9.7"
  }
 },
 "nbformat": 4,
 "nbformat_minor": 5
}
